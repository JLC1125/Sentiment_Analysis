{
 "cells": [
  {
   "cell_type": "code",
   "execution_count": 98,
   "id": "097561d3-803d-4efb-b1b2-46825495d682",
   "metadata": {},
   "outputs": [],
   "source": [
    "#import libraries\n",
    "import requests\n",
    "import pandas as pd\n",
    "import time\n",
    "import psycopg2 as ps\n",
    "from dotenv import load_dotenv\n",
    "import os"
   ]
  },
  {
   "cell_type": "code",
   "execution_count": 99,
   "id": "1f6077b7-fefe-4a99-9cfa-2b24ef963abe",
   "metadata": {},
   "outputs": [
    {
     "data": {
      "text/plain": [
       "True"
      ]
     },
     "execution_count": 99,
     "metadata": {},
     "output_type": "execute_result"
    }
   ],
   "source": [
    "load_dotenv()"
   ]
  },
  {
   "cell_type": "code",
   "execution_count": 100,
   "id": "5f532108-f808-4877-95c5-77adae120ee2",
   "metadata": {},
   "outputs": [],
   "source": [
    "#Keys\n",
    "API_KEY = os.getenv('API_KEY')\n",
    "CHANNEL_ID = \"UCCT_-OGW5IiUuuHwmuyUPYQ\""
   ]
  },
  {
   "cell_type": "code",
   "execution_count": 101,
   "id": "7d6e6823-3a7d-44dc-8643-08d9e4698ccd",
   "metadata": {},
   "outputs": [],
   "source": [
    "def get_video_details(video_id):\n",
    "    \n",
    "        # Collecting view, like, dislike, comment counts\n",
    "        url_video_stats = \"https://www.googleapis.com/youtube/v3/videos?id=\" + video_id + \"&part=statistics&key=\" + API_KEY\n",
    "        response_video_stats = requests.get(url_video_stats).json()\n",
    "\n",
    "        statistics = response_video_stats['items'][0]['statistics']\n",
    "\n",
    "        # Check if 'dislikeCount' exists before accessing it\n",
    "        if 'dislikeCount' in statistics:\n",
    "            dislike_count = statistics['dislikeCount']\n",
    "        else:\n",
    "            dislike_count = 0  # Set default value if dislike count is not available\n",
    "\n",
    "        view_count = response_video_stats['items'][0]['statistics']['viewCount']\n",
    "        like_count = response_video_stats['items'][0]['statistics']['likeCount']\n",
    "        comment_count = response_video_stats['items'][0]['statistics']['commentCount']\n",
    "\n",
    "        return view_count, like_count, dislike_count, comment_count"
   ]
  },
  {
   "cell_type": "code",
   "execution_count": 102,
   "id": "09f6e156-9d4d-4815-afbd-8d0b00351e6b",
   "metadata": {},
   "outputs": [],
   "source": [
    "def get_videos(df,api_key=API_KEY,channel_id=CHANNEL_ID):\n",
    "    # Make API call\n",
    "    pageToken = \"\"\n",
    "    url = \"https://www.googleapis.com/youtube/v3/search?key=\"+api_key+\"&channelId=\"+channel_id+\"&part=snippet,id&order=date&maxResults=10000\"+pageToken\n",
    "    response = requests.get(url).json()\n",
    "    time.sleep(1)\n",
    "\n",
    "    # Create an empty list to store rows\n",
    "    rows_to_concat = []\n",
    "\n",
    "    for video in response['items']:\n",
    "        if video['id']['kind'] == \"youtube#video\":\n",
    "            video_id = video['id']['videoId']\n",
    "            video_title = video['snippet']['title'].replace(\"&\", \"\")\n",
    "            upload_date = str(video['snippet']['publishedAt']).split(\"T\")[0]\n",
    "\n",
    "            view_count, like_count, dislike_count, comment_count = get_video_details(video_id)\n",
    "\n",
    "            # Create a dictionary for the row\n",
    "            row_dict = {'video_id': video_id, 'video_title': video_title,\n",
    "                        'upload_date': upload_date, 'view_count': view_count,\n",
    "                        'like_count': like_count, 'dislike_count': dislike_count,\n",
    "                        'comment_count': comment_count}\n",
    "\n",
    "            # Append the dictionary to the list\n",
    "            rows_to_concat.append(row_dict)\n",
    "\n",
    "    # Convert the list of dictionaries to a DataFrame\n",
    "    df_new_rows = pd.DataFrame(rows_to_concat)\n",
    "\n",
    "    # Concatenate the new rows with the existing DataFrame\n",
    "    df = pd.concat([df, df_new_rows], ignore_index=True)\n",
    "\n",
    "    return df\n"
   ]
  },
  {
   "cell_type": "code",
   "execution_count": 103,
   "id": "fdd57799-fe37-4f9b-a0cf-006d152fd0df",
   "metadata": {},
   "outputs": [
    {
     "ename": "KeyError",
     "evalue": "'likeCount'",
     "output_type": "error",
     "traceback": [
      "\u001b[1;31m---------------------------------------------------------------------------\u001b[0m",
      "\u001b[1;31mKeyError\u001b[0m                                  Traceback (most recent call last)",
      "Cell \u001b[1;32mIn[103], line 5\u001b[0m\n\u001b[0;32m      1\u001b[0m \u001b[38;5;66;03m#main\u001b[39;00m\n\u001b[0;32m      2\u001b[0m \n\u001b[0;32m      3\u001b[0m \u001b[38;5;66;03m#build our dataframe\u001b[39;00m\n\u001b[0;32m      4\u001b[0m df \u001b[38;5;241m=\u001b[39m pd\u001b[38;5;241m.\u001b[39mDataFrame(columns\u001b[38;5;241m=\u001b[39m[\u001b[38;5;124m\"\u001b[39m\u001b[38;5;124mvideo_id\u001b[39m\u001b[38;5;124m\"\u001b[39m,\u001b[38;5;124m\"\u001b[39m\u001b[38;5;124mvideo_title\u001b[39m\u001b[38;5;124m\"\u001b[39m,\u001b[38;5;124m\"\u001b[39m\u001b[38;5;124mupload_date\u001b[39m\u001b[38;5;124m\"\u001b[39m,\u001b[38;5;124m\"\u001b[39m\u001b[38;5;124mview_count\u001b[39m\u001b[38;5;124m\"\u001b[39m,\u001b[38;5;124m\"\u001b[39m\u001b[38;5;124mlike_count\u001b[39m\u001b[38;5;124m\"\u001b[39m,\u001b[38;5;124m\"\u001b[39m\u001b[38;5;124mdislike_count\u001b[39m\u001b[38;5;124m\"\u001b[39m,\u001b[38;5;124m\"\u001b[39m\u001b[38;5;124mcomment_count\u001b[39m\u001b[38;5;124m\"\u001b[39m])\n\u001b[1;32m----> 5\u001b[0m df \u001b[38;5;241m=\u001b[39m get_videos(df)\n",
      "Cell \u001b[1;32mIn[102], line 22\u001b[0m, in \u001b[0;36mget_videos\u001b[1;34m(df, api_key, channel_id)\u001b[0m\n\u001b[0;32m     19\u001b[0m video_title \u001b[38;5;241m=\u001b[39m video[\u001b[38;5;124m'\u001b[39m\u001b[38;5;124msnippet\u001b[39m\u001b[38;5;124m'\u001b[39m][\u001b[38;5;124m'\u001b[39m\u001b[38;5;124mtitle\u001b[39m\u001b[38;5;124m'\u001b[39m]\u001b[38;5;241m.\u001b[39mreplace(\u001b[38;5;124m\"\u001b[39m\u001b[38;5;124m&amp;\u001b[39m\u001b[38;5;124m\"\u001b[39m, \u001b[38;5;124m\"\u001b[39m\u001b[38;5;124m&\u001b[39m\u001b[38;5;124m\"\u001b[39m)\n\u001b[0;32m     20\u001b[0m upload_date \u001b[38;5;241m=\u001b[39m \u001b[38;5;28mstr\u001b[39m(video[\u001b[38;5;124m'\u001b[39m\u001b[38;5;124msnippet\u001b[39m\u001b[38;5;124m'\u001b[39m][\u001b[38;5;124m'\u001b[39m\u001b[38;5;124mpublishedAt\u001b[39m\u001b[38;5;124m'\u001b[39m])\u001b[38;5;241m.\u001b[39msplit(\u001b[38;5;124m\"\u001b[39m\u001b[38;5;124mT\u001b[39m\u001b[38;5;124m\"\u001b[39m)[\u001b[38;5;241m0\u001b[39m]\n\u001b[1;32m---> 22\u001b[0m view_count, like_count, dislike_count, comment_count \u001b[38;5;241m=\u001b[39m get_video_details(video_id)\n\u001b[0;32m     24\u001b[0m row_dict \u001b[38;5;241m=\u001b[39m {\n\u001b[0;32m     25\u001b[0m     \u001b[38;5;124m'\u001b[39m\u001b[38;5;124mvideo_id\u001b[39m\u001b[38;5;124m'\u001b[39m: video_id, \u001b[38;5;124m'\u001b[39m\u001b[38;5;124mvideo_title\u001b[39m\u001b[38;5;124m'\u001b[39m: video_title,\n\u001b[0;32m     26\u001b[0m     \u001b[38;5;124m'\u001b[39m\u001b[38;5;124mupload_date\u001b[39m\u001b[38;5;124m'\u001b[39m: upload_date, \u001b[38;5;124m'\u001b[39m\u001b[38;5;124mview_count\u001b[39m\u001b[38;5;124m'\u001b[39m: view_count,\n\u001b[0;32m     27\u001b[0m     \u001b[38;5;124m'\u001b[39m\u001b[38;5;124mlike_count\u001b[39m\u001b[38;5;124m'\u001b[39m: like_count, \u001b[38;5;124m'\u001b[39m\u001b[38;5;124mdislike_count\u001b[39m\u001b[38;5;124m'\u001b[39m: dislike_count,\n\u001b[0;32m     28\u001b[0m     \u001b[38;5;124m'\u001b[39m\u001b[38;5;124mcomment_count\u001b[39m\u001b[38;5;124m'\u001b[39m: comment_count\n\u001b[0;32m     29\u001b[0m }\n\u001b[0;32m     30\u001b[0m rows_to_concat\u001b[38;5;241m.\u001b[39mappend(row_dict)\n",
      "Cell \u001b[1;32mIn[101], line 16\u001b[0m, in \u001b[0;36mget_video_details\u001b[1;34m(video_id)\u001b[0m\n\u001b[0;32m     13\u001b[0m     dislike_count \u001b[38;5;241m=\u001b[39m \u001b[38;5;241m0\u001b[39m  \u001b[38;5;66;03m# Set default value if dislike count is not available\u001b[39;00m\n\u001b[0;32m     15\u001b[0m view_count \u001b[38;5;241m=\u001b[39m response_video_stats[\u001b[38;5;124m'\u001b[39m\u001b[38;5;124mitems\u001b[39m\u001b[38;5;124m'\u001b[39m][\u001b[38;5;241m0\u001b[39m][\u001b[38;5;124m'\u001b[39m\u001b[38;5;124mstatistics\u001b[39m\u001b[38;5;124m'\u001b[39m][\u001b[38;5;124m'\u001b[39m\u001b[38;5;124mviewCount\u001b[39m\u001b[38;5;124m'\u001b[39m]\n\u001b[1;32m---> 16\u001b[0m like_count \u001b[38;5;241m=\u001b[39m response_video_stats[\u001b[38;5;124m'\u001b[39m\u001b[38;5;124mitems\u001b[39m\u001b[38;5;124m'\u001b[39m][\u001b[38;5;241m0\u001b[39m][\u001b[38;5;124m'\u001b[39m\u001b[38;5;124mstatistics\u001b[39m\u001b[38;5;124m'\u001b[39m][\u001b[38;5;124m'\u001b[39m\u001b[38;5;124mlikeCount\u001b[39m\u001b[38;5;124m'\u001b[39m]\n\u001b[0;32m     17\u001b[0m comment_count \u001b[38;5;241m=\u001b[39m response_video_stats[\u001b[38;5;124m'\u001b[39m\u001b[38;5;124mitems\u001b[39m\u001b[38;5;124m'\u001b[39m][\u001b[38;5;241m0\u001b[39m][\u001b[38;5;124m'\u001b[39m\u001b[38;5;124mstatistics\u001b[39m\u001b[38;5;124m'\u001b[39m][\u001b[38;5;124m'\u001b[39m\u001b[38;5;124mcommentCount\u001b[39m\u001b[38;5;124m'\u001b[39m]\n\u001b[0;32m     19\u001b[0m \u001b[38;5;28;01mreturn\u001b[39;00m view_count, like_count, dislike_count, comment_count\n",
      "\u001b[1;31mKeyError\u001b[0m: 'likeCount'"
     ]
    }
   ],
   "source": [
    "#main\n",
    "\n",
    "#build our dataframe\n",
    "df = pd.DataFrame(columns=[\"video_id\",\"video_title\",\"upload_date\",\"view_count\",\"like_count\",\"dislike_count\",\"comment_count\"])\n",
    "df = get_videos(df)"
   ]
  },
  {
   "cell_type": "code",
   "execution_count": null,
   "id": "eff85ec2-8668-4af5-b30e-5435ef81e50f",
   "metadata": {},
   "outputs": [],
   "source": [
    "df.head()"
   ]
  },
  {
   "cell_type": "code",
   "execution_count": null,
   "id": "7b7825ec-50bd-4ce8-8fff-32d3fc67fa56",
   "metadata": {},
   "outputs": [],
   "source": [
    "# Assuming 'df' is your pandas DataFrame\n",
    "df.to_csv(r\"C:\\Users\\Levin\\Projects\\4OceanSA.csv\", index=False)\n"
   ]
  },
  {
   "cell_type": "code",
   "execution_count": null,
   "id": "54254f8c-b059-4e78-a8f9-5bd80e8cb2e1",
   "metadata": {},
   "outputs": [],
   "source": [
    "df = pd.read_csv('4OceanSA.csv')\n",
    "df.head()"
   ]
  },
  {
   "cell_type": "code",
   "execution_count": null,
   "id": "8381ab2d-c009-41d5-8e87-f043e5e9bfd2",
   "metadata": {},
   "outputs": [],
   "source": [
    "#connect to db\n",
    "def connect_to_db(host_name, dbname, port, username, password):\n",
    "    try:\n",
    "        conn = ps.connect(host=host_name, database=dbname, user=username, password=password, port=port)\n",
    "    except ps.OperationalError as e:\n",
    "            raise e\n",
    "    else:\n",
    "        print('Connected!')\n",
    "    return conn"
   ]
  },
  {
   "cell_type": "code",
   "execution_count": null,
   "id": "4d30f67e-870b-4739-9130-4b8ee9b5bb40",
   "metadata": {},
   "outputs": [],
   "source": [
    "host_name = os.getenv('host_name')\n",
    "dbname = os.getenv('dbname')\n",
    "port = os.getenv('port')\n",
    "username = os.getenv('un')\n",
    "password = os.getenv('password')\n",
    "conn = None\n",
    "\n",
    "conn = connect_to_db(host_name, dbname, port, username, password)"
   ]
  },
  {
   "cell_type": "code",
   "execution_count": null,
   "id": "a4f985a3-8b30-43ae-9704-1dc8466c80d4",
   "metadata": {},
   "outputs": [],
   "source": [
    "#create table\n",
    "def create_table(curr):\n",
    "    create_table_command = (\"\"\"CREATE TABLE IF NOT EXISTS videos (\n",
    "                     video_id VARCHAR(255) PRIMARY KEY,\n",
    "                     video_title TEXT NOT NULL,\n",
    "                     upload_date DATE NOT NULL DEFAULT CURRENT_DATE,\n",
    "                     view_count INTEGER NOT NULL,\n",
    "                     like_count INTEGER NOT NULL,\n",
    "                     dislike_count INTEGER NOT NULL,\n",
    "                     comment_count INTEGER NOT NULL\n",
    "            )\"\"\")\n",
    "\n",
    "    curr.execute(create_table_command)"
   ]
  },
  {
   "cell_type": "code",
   "execution_count": null,
   "id": "8dafb8ec-8faa-4751-80f3-e917a95f7e8c",
   "metadata": {},
   "outputs": [],
   "source": [
    "#check if video exists\n",
    "def check_if_video_exists(curr, video_id):\n",
    "    query = (\"\"\"SELECT video_id FROM VIDEOS WHERE video_id = %s\"\"\")\n",
    "    curr.execute(query, (video_id,))\n",
    "\n",
    "    return curr.fetchone() is not None"
   ]
  },
  {
   "cell_type": "code",
   "execution_count": null,
   "id": "113f246d-f7ea-4445-8c10-8feb9421f56a",
   "metadata": {},
   "outputs": [],
   "source": [
    "#update row if video exists\n",
    "\n",
    "def update_row(curr, video_id, video_title, view_count, like_count, dislike_count, comment_count):\n",
    "    query = (\"\"\"UPDATE videos\n",
    "            SET video_title = %s,\n",
    "                view_count = %s,\n",
    "                like_count = %s,\n",
    "                dislike_count = %s,\n",
    "                comment_count = %s\n",
    "            WHERE video_id = %s;\"\"\")\n",
    "    vars_to_update = (video_title, view_count, like_count, dislike_count, comment_count, video_id)\n",
    "    curr.execute(query, vars_to_update)"
   ]
  },
  {
   "cell_type": "code",
   "execution_count": null,
   "id": "fa5b8e89-f203-44a1-a6a8-6712b7c52d9d",
   "metadata": {},
   "outputs": [],
   "source": [
    "def update_db(curr, df):\n",
    "    # Initialize an empty list to store rows for new videos\n",
    "    new_videos = []\n",
    "\n",
    "    for video_id, row in df.iterrows():\n",
    "        if check_if_video_exists(curr, row['video_id']):  # if video already exists then we will update\n",
    "            update_row(curr, row['video_id'], row['video_title'], row['view_count'], row['like_count'], row['dislike_count'], row['comment_count'])\n",
    "        else:  # The video doesn't exist so we will collect rows to append to the db table later\n",
    "            # Convert the Series to a DataFrame row and set 'video_id' as a column\n",
    "            new_row_df = row.to_frame().T\n",
    "            new_row_df['video_id'] = row['video_id']\n",
    "            new_videos.append(new_row_df)\n",
    "\n",
    "    # If there are new videos, concatenate them into a single DataFrame\n",
    "    if new_videos:\n",
    "        tmp_df = pd.concat(new_videos, ignore_index=True)\n",
    "    else:\n",
    "        # If there are no new videos, create an empty DataFrame with the specified columns\n",
    "        tmp_df = pd.DataFrame(columns=['video_id', 'video_title', 'upload_date', 'view_count', 'like_count', 'dislike_count', 'comment_count'])\n",
    "\n",
    "    return tmp_df\n"
   ]
  },
  {
   "cell_type": "code",
   "execution_count": null,
   "id": "6aba52c6-cf18-46a5-903b-0a7b7aa7be89",
   "metadata": {},
   "outputs": [],
   "source": [
    "#write insert command\n",
    "\n",
    "def insert_into_table(curr, video_id, video_title, upload_date, view_count, like_count, dislike_count, comment_count):\n",
    "    insert_into_videos = (\"\"\"INSERT INTO videos (video_id, video_title, upload_date, view_count, like_count, dislike_count, comment_count)\n",
    "    VALUES(%s,%s,%s,%s,%s,%s,%s);\"\"\")\n",
    "    row_to_insert = (video_id, video_title, upload_date, view_count, like_count, dislike_count, comment_count)\n",
    "    curr.execute(insert_into_videos, row_to_insert)"
   ]
  },
  {
   "cell_type": "code",
   "execution_count": null,
   "id": "e86a148b-281a-492f-b578-275c73d3fb34",
   "metadata": {},
   "outputs": [],
   "source": [
    "def append_from_df_to_db(curr,df):\n",
    "    for i, row in df.iterrows():\n",
    "        insert_into_table(curr, row['video_id'], row['video_title'], row['upload_date'], row['view_count'], row['like_count'], row['dislike_count'], row['comment_count'])\n"
   ]
  },
  {
   "cell_type": "code",
   "execution_count": null,
   "id": "2587d159-baad-40cd-84ba-6dbe007a9ce9",
   "metadata": {},
   "outputs": [],
   "source": [
    "curr = conn.cursor()"
   ]
  },
  {
   "cell_type": "code",
   "execution_count": null,
   "id": "b2c288e2-4637-4b8f-be69-e3d8edbf126f",
   "metadata": {},
   "outputs": [],
   "source": [
    "create_table(curr)"
   ]
  },
  {
   "cell_type": "code",
   "execution_count": null,
   "id": "fb584dd3-3920-4a5b-bff1-e4771552cdef",
   "metadata": {
    "scrolled": true
   },
   "outputs": [],
   "source": [
    "new_vid_df = update_db(curr, df)"
   ]
  },
  {
   "cell_type": "code",
   "execution_count": null,
   "id": "463cc3a3-e795-4e19-901f-c01a334f5345",
   "metadata": {},
   "outputs": [],
   "source": [
    "append_from_df_to_db(curr, new_vid_df)"
   ]
  },
  {
   "cell_type": "code",
   "execution_count": null,
   "id": "66813685-6bb1-46c0-8a2d-ff2e81a1941e",
   "metadata": {},
   "outputs": [],
   "source": [
    "conn.commit()"
   ]
  },
  {
   "cell_type": "code",
   "execution_count": null,
   "id": "41686b8b-2eec-441c-9699-82acc05e5516",
   "metadata": {},
   "outputs": [],
   "source": []
  }
 ],
 "metadata": {
  "kernelspec": {
   "display_name": "Python 3 (ipykernel)",
   "language": "python",
   "name": "python3"
  },
  "language_info": {
   "codemirror_mode": {
    "name": "ipython",
    "version": 3
   },
   "file_extension": ".py",
   "mimetype": "text/x-python",
   "name": "python",
   "nbconvert_exporter": "python",
   "pygments_lexer": "ipython3",
   "version": "3.11.7"
  }
 },
 "nbformat": 4,
 "nbformat_minor": 5
}
