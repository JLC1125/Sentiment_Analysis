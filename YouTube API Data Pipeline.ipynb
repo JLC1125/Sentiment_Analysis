{
 "cells": [
  {
   "cell_type": "code",
   "execution_count": 43,
   "id": "097561d3-803d-4efb-b1b2-46825495d682",
   "metadata": {},
   "outputs": [],
   "source": [
    "#import libraries\n",
    "import requests\n",
    "import pandas as pd\n",
    "import time\n",
    "import psycopg2 as ps\n",
    "from dotenv import load_dotenv\n",
    "import os"
   ]
  },
  {
   "cell_type": "code",
   "execution_count": 44,
   "id": "1f6077b7-fefe-4a99-9cfa-2b24ef963abe",
   "metadata": {},
   "outputs": [
    {
     "data": {
      "text/plain": [
       "True"
      ]
     },
     "execution_count": 44,
     "metadata": {},
     "output_type": "execute_result"
    }
   ],
   "source": [
    "load_dotenv()"
   ]
  },
  {
   "cell_type": "code",
   "execution_count": 45,
   "id": "5f532108-f808-4877-95c5-77adae120ee2",
   "metadata": {},
   "outputs": [],
   "source": [
    "#Keys\n",
    "API_KEY = os.getenv('API_KEY')\n",
    "CHANNEL_ID = \"UCCT_-OGW5IiUuuHwmuyUPYQ\""
   ]
  },
  {
   "cell_type": "code",
   "execution_count": 46,
   "id": "9d91796f-c051-4e27-9c29-96bb7c99a388",
   "metadata": {},
   "outputs": [],
   "source": [
    "def get_video_details(video_id):\n",
    "    # Collecting view, like, dislike, comment counts\n",
    "    url_video_stats = \"https://www.googleapis.com/youtube/v3/videos?id=\" + video_id + \"&part=statistics&key=\" + API_KEY\n",
    "    response_video_stats = requests.get(url_video_stats).json()\n",
    "\n",
    "    statistics = response_video_stats['items'][0]['statistics']\n",
    "\n",
    "    # Check if each statistic exists before accessing it\n",
    "    view_count = statistics.get('viewCount', 0)  # Default to 0 if not found\n",
    "    like_count = statistics.get('likeCount', 0)  # Default to 0 if not found\n",
    "    dislike_count = statistics.get('dislikeCount', 0)  # Default to 0 if not found\n",
    "    comment_count = statistics.get('commentCount', 0)  # Default to 0 if not found\n",
    "\n",
    "    return view_count, like_count, dislike_count, comment_count\n"
   ]
  },
  {
   "cell_type": "code",
   "execution_count": 47,
   "id": "7d6e6823-3a7d-44dc-8643-08d9e4698ccd",
   "metadata": {},
   "outputs": [],
   "source": [
    "def get_videos(df, api_key=API_KEY, channel_id=CHANNEL_ID):\n",
    "    # Initialize pageToken\n",
    "    pageToken = \"\"\n",
    "    rows_to_concat = []\n",
    "\n",
    "    while True:\n",
    "        # Update URL to include pageToken\n",
    "        url = f\"https://www.googleapis.com/youtube/v3/search?key={api_key}&channelId={channel_id}&part=snippet,id&order=date&maxResults=50&pageToken={pageToken}\"\n",
    "        response = requests.get(url).json()\n",
    "\n",
    "        # Check if API call was successful\n",
    "        if response.get('error'):\n",
    "            print(f\"Error fetching data: {response.get('error')}\")\n",
    "            break\n",
    "\n",
    "        for video in response['items']:\n",
    "            if video['id']['kind'] == \"youtube#video\":\n",
    "                video_id = video['id']['videoId']\n",
    "                video_title = video['snippet']['title'].replace(\"&amp;\", \"&\")\n",
    "                upload_date = str(video['snippet']['publishedAt']).split(\"T\")[0]\n",
    "\n",
    "                view_count, like_count, dislike_count, comment_count = get_video_details(video_id)\n",
    "\n",
    "                row_dict = {\n",
    "                    'video_id': video_id, 'video_title': video_title,\n",
    "                    'upload_date': upload_date, 'view_count': view_count,\n",
    "                    'like_count': like_count, 'dislike_count': dislike_count,\n",
    "                    'comment_count': comment_count\n",
    "                }\n",
    "                rows_to_concat.append(row_dict)\n",
    "\n",
    "        df_new_rows = pd.DataFrame(rows_to_concat)\n",
    "        df = pd.concat([df, df_new_rows], ignore_index=True)\n",
    "\n",
    "        # Handle pagination\n",
    "        if 'nextPageToken' in response:\n",
    "            pageToken = response['nextPageToken']\n",
    "            time.sleep(1)  # Respect YouTube API rate limits\n",
    "        else:\n",
    "            break  # Exit the loop if there's no next page\n",
    "\n",
    "    return df\n",
    "\n"
   ]
  },
  {
   "cell_type": "code",
   "execution_count": 48,
   "id": "fdd57799-fe37-4f9b-a0cf-006d152fd0df",
   "metadata": {},
   "outputs": [],
   "source": [
    "#main\n",
    "\n",
    "#build our dataframe\n",
    "df = pd.DataFrame(columns=[\"video_id\",\"video_title\",\"upload_date\",\"view_count\",\"like_count\",\"dislike_count\",\"comment_count\"])\n",
    "df = get_videos(df)"
   ]
  },
  {
   "cell_type": "code",
   "execution_count": 49,
   "id": "eff85ec2-8668-4af5-b30e-5435ef81e50f",
   "metadata": {},
   "outputs": [
    {
     "data": {
      "text/html": [
       "<div>\n",
       "<style scoped>\n",
       "    .dataframe tbody tr th:only-of-type {\n",
       "        vertical-align: middle;\n",
       "    }\n",
       "\n",
       "    .dataframe tbody tr th {\n",
       "        vertical-align: top;\n",
       "    }\n",
       "\n",
       "    .dataframe thead th {\n",
       "        text-align: right;\n",
       "    }\n",
       "</style>\n",
       "<table border=\"1\" class=\"dataframe\">\n",
       "  <thead>\n",
       "    <tr style=\"text-align: right;\">\n",
       "      <th></th>\n",
       "      <th>video_id</th>\n",
       "      <th>video_title</th>\n",
       "      <th>upload_date</th>\n",
       "      <th>view_count</th>\n",
       "      <th>like_count</th>\n",
       "      <th>dislike_count</th>\n",
       "      <th>comment_count</th>\n",
       "    </tr>\n",
       "  </thead>\n",
       "  <tbody>\n",
       "    <tr>\n",
       "      <th>0</th>\n",
       "      <td>2GPKYoU-kUI</td>\n",
       "      <td>The Bracelet that&amp;#39;s Changing the World 🌎#p...</td>\n",
       "      <td>2024-03-20</td>\n",
       "      <td>63</td>\n",
       "      <td>22</td>\n",
       "      <td>0</td>\n",
       "      <td>0</td>\n",
       "    </tr>\n",
       "    <tr>\n",
       "      <th>1</th>\n",
       "      <td>Dc5yzM0Ye7Q</td>\n",
       "      <td>Your Friendly Neighborhood Ocean Cleanup Crew ...</td>\n",
       "      <td>2024-03-16</td>\n",
       "      <td>2606</td>\n",
       "      <td>362</td>\n",
       "      <td>0</td>\n",
       "      <td>34</td>\n",
       "    </tr>\n",
       "    <tr>\n",
       "      <th>2</th>\n",
       "      <td>nHFmurarFIc</td>\n",
       "      <td>It&amp;#39;s more than just a bracelet...😎🌊 #plast...</td>\n",
       "      <td>2024-03-14</td>\n",
       "      <td>3194</td>\n",
       "      <td>340</td>\n",
       "      <td>0</td>\n",
       "      <td>5</td>\n",
       "    </tr>\n",
       "    <tr>\n",
       "      <th>3</th>\n",
       "      <td>moAw-axibqg</td>\n",
       "      <td>35 MILLION POUNDS!!! Time To Celebrate♻️🎉🥳 #pl...</td>\n",
       "      <td>2024-03-12</td>\n",
       "      <td>1287</td>\n",
       "      <td>370</td>\n",
       "      <td>0</td>\n",
       "      <td>23</td>\n",
       "    </tr>\n",
       "    <tr>\n",
       "      <th>4</th>\n",
       "      <td>PU5vG46H4DY</td>\n",
       "      <td>The Harmful Effects of Ocean Pollution 😧🌊 #pla...</td>\n",
       "      <td>2024-03-11</td>\n",
       "      <td>6718</td>\n",
       "      <td>464</td>\n",
       "      <td>0</td>\n",
       "      <td>17</td>\n",
       "    </tr>\n",
       "  </tbody>\n",
       "</table>\n",
       "</div>"
      ],
      "text/plain": [
       "      video_id                                        video_title upload_date  \\\n",
       "0  2GPKYoU-kUI  The Bracelet that&#39;s Changing the World 🌎#p...  2024-03-20   \n",
       "1  Dc5yzM0Ye7Q  Your Friendly Neighborhood Ocean Cleanup Crew ...  2024-03-16   \n",
       "2  nHFmurarFIc  It&#39;s more than just a bracelet...😎🌊 #plast...  2024-03-14   \n",
       "3  moAw-axibqg  35 MILLION POUNDS!!! Time To Celebrate♻️🎉🥳 #pl...  2024-03-12   \n",
       "4  PU5vG46H4DY  The Harmful Effects of Ocean Pollution 😧🌊 #pla...  2024-03-11   \n",
       "\n",
       "  view_count like_count dislike_count comment_count  \n",
       "0         63         22             0             0  \n",
       "1       2606        362             0            34  \n",
       "2       3194        340             0             5  \n",
       "3       1287        370             0            23  \n",
       "4       6718        464             0            17  "
      ]
     },
     "execution_count": 49,
     "metadata": {},
     "output_type": "execute_result"
    }
   ],
   "source": [
    "df.head()"
   ]
  },
  {
   "cell_type": "code",
   "execution_count": 50,
   "id": "7b7825ec-50bd-4ce8-8fff-32d3fc67fa56",
   "metadata": {},
   "outputs": [],
   "source": [
    "# Assuming 'df' is your pandas DataFrame\n",
    "df.to_csv(r\"C:\\Users\\Levin\\Projects\\4OceanSA.csv\", index=False)\n"
   ]
  },
  {
   "cell_type": "code",
   "execution_count": 51,
   "id": "54254f8c-b059-4e78-a8f9-5bd80e8cb2e1",
   "metadata": {},
   "outputs": [
    {
     "data": {
      "text/html": [
       "<div>\n",
       "<style scoped>\n",
       "    .dataframe tbody tr th:only-of-type {\n",
       "        vertical-align: middle;\n",
       "    }\n",
       "\n",
       "    .dataframe tbody tr th {\n",
       "        vertical-align: top;\n",
       "    }\n",
       "\n",
       "    .dataframe thead th {\n",
       "        text-align: right;\n",
       "    }\n",
       "</style>\n",
       "<table border=\"1\" class=\"dataframe\">\n",
       "  <thead>\n",
       "    <tr style=\"text-align: right;\">\n",
       "      <th></th>\n",
       "      <th>video_id</th>\n",
       "      <th>video_title</th>\n",
       "      <th>upload_date</th>\n",
       "      <th>view_count</th>\n",
       "      <th>like_count</th>\n",
       "      <th>dislike_count</th>\n",
       "      <th>comment_count</th>\n",
       "    </tr>\n",
       "  </thead>\n",
       "  <tbody>\n",
       "    <tr>\n",
       "      <th>0</th>\n",
       "      <td>2GPKYoU-kUI</td>\n",
       "      <td>The Bracelet that&amp;#39;s Changing the World 🌎#p...</td>\n",
       "      <td>2024-03-20</td>\n",
       "      <td>63</td>\n",
       "      <td>22</td>\n",
       "      <td>0</td>\n",
       "      <td>0</td>\n",
       "    </tr>\n",
       "    <tr>\n",
       "      <th>1</th>\n",
       "      <td>Dc5yzM0Ye7Q</td>\n",
       "      <td>Your Friendly Neighborhood Ocean Cleanup Crew ...</td>\n",
       "      <td>2024-03-16</td>\n",
       "      <td>2606</td>\n",
       "      <td>362</td>\n",
       "      <td>0</td>\n",
       "      <td>34</td>\n",
       "    </tr>\n",
       "    <tr>\n",
       "      <th>2</th>\n",
       "      <td>nHFmurarFIc</td>\n",
       "      <td>It&amp;#39;s more than just a bracelet...😎🌊 #plast...</td>\n",
       "      <td>2024-03-14</td>\n",
       "      <td>3194</td>\n",
       "      <td>340</td>\n",
       "      <td>0</td>\n",
       "      <td>5</td>\n",
       "    </tr>\n",
       "    <tr>\n",
       "      <th>3</th>\n",
       "      <td>moAw-axibqg</td>\n",
       "      <td>35 MILLION POUNDS!!! Time To Celebrate♻️🎉🥳 #pl...</td>\n",
       "      <td>2024-03-12</td>\n",
       "      <td>1287</td>\n",
       "      <td>370</td>\n",
       "      <td>0</td>\n",
       "      <td>23</td>\n",
       "    </tr>\n",
       "    <tr>\n",
       "      <th>4</th>\n",
       "      <td>PU5vG46H4DY</td>\n",
       "      <td>The Harmful Effects of Ocean Pollution 😧🌊 #pla...</td>\n",
       "      <td>2024-03-11</td>\n",
       "      <td>6718</td>\n",
       "      <td>464</td>\n",
       "      <td>0</td>\n",
       "      <td>17</td>\n",
       "    </tr>\n",
       "  </tbody>\n",
       "</table>\n",
       "</div>"
      ],
      "text/plain": [
       "      video_id                                        video_title upload_date  \\\n",
       "0  2GPKYoU-kUI  The Bracelet that&#39;s Changing the World 🌎#p...  2024-03-20   \n",
       "1  Dc5yzM0Ye7Q  Your Friendly Neighborhood Ocean Cleanup Crew ...  2024-03-16   \n",
       "2  nHFmurarFIc  It&#39;s more than just a bracelet...😎🌊 #plast...  2024-03-14   \n",
       "3  moAw-axibqg  35 MILLION POUNDS!!! Time To Celebrate♻️🎉🥳 #pl...  2024-03-12   \n",
       "4  PU5vG46H4DY  The Harmful Effects of Ocean Pollution 😧🌊 #pla...  2024-03-11   \n",
       "\n",
       "   view_count  like_count  dislike_count  comment_count  \n",
       "0          63          22              0              0  \n",
       "1        2606         362              0             34  \n",
       "2        3194         340              0              5  \n",
       "3        1287         370              0             23  \n",
       "4        6718         464              0             17  "
      ]
     },
     "execution_count": 51,
     "metadata": {},
     "output_type": "execute_result"
    }
   ],
   "source": [
    "df = pd.read_csv('4OceanSA.csv')\n",
    "df.head()"
   ]
  },
  {
   "cell_type": "code",
   "execution_count": 52,
   "id": "8381ab2d-c009-41d5-8e87-f043e5e9bfd2",
   "metadata": {},
   "outputs": [],
   "source": [
    "#connect to db\n",
    "def connect_to_db(host_name, dbname, port, username, password):\n",
    "    try:\n",
    "        conn = ps.connect(host=host_name, database=dbname, user=username, password=password, port=port)\n",
    "    except ps.OperationalError as e:\n",
    "            raise e\n",
    "    else:\n",
    "        print('Connected!')\n",
    "    return conn"
   ]
  },
  {
   "cell_type": "code",
   "execution_count": 53,
   "id": "4d30f67e-870b-4739-9130-4b8ee9b5bb40",
   "metadata": {},
   "outputs": [
    {
     "name": "stdout",
     "output_type": "stream",
     "text": [
      "Connected!\n"
     ]
    }
   ],
   "source": [
    "host_name = os.getenv('host_name')\n",
    "dbname = os.getenv('dbname')\n",
    "port = os.getenv('port')\n",
    "username = os.getenv('un')\n",
    "password = os.getenv('password')\n",
    "conn = None\n",
    "\n",
    "conn = connect_to_db(host_name, dbname, port, username, password)"
   ]
  },
  {
   "cell_type": "code",
   "execution_count": 54,
   "id": "a4f985a3-8b30-43ae-9704-1dc8466c80d4",
   "metadata": {},
   "outputs": [],
   "source": [
    "#create table\n",
    "def create_table(curr):\n",
    "    create_table_command = (\"\"\"CREATE TABLE IF NOT EXISTS videos (\n",
    "                     video_id VARCHAR(255) PRIMARY KEY,\n",
    "                     video_title TEXT NOT NULL,\n",
    "                     upload_date DATE NOT NULL DEFAULT CURRENT_DATE,\n",
    "                     view_count INTEGER NOT NULL,\n",
    "                     like_count INTEGER NOT NULL,\n",
    "                     dislike_count INTEGER NOT NULL,\n",
    "                     comment_count INTEGER NOT NULL\n",
    "            )\"\"\")\n",
    "\n",
    "    curr.execute(create_table_command)"
   ]
  },
  {
   "cell_type": "code",
   "execution_count": 55,
   "id": "8dafb8ec-8faa-4751-80f3-e917a95f7e8c",
   "metadata": {},
   "outputs": [],
   "source": [
    "#check if video exists\n",
    "def check_if_video_exists(curr, video_id):\n",
    "    query = (\"\"\"SELECT video_id FROM VIDEOS WHERE video_id = %s\"\"\")\n",
    "    curr.execute(query, (video_id,))\n",
    "\n",
    "    return curr.fetchone() is not None"
   ]
  },
  {
   "cell_type": "code",
   "execution_count": 56,
   "id": "113f246d-f7ea-4445-8c10-8feb9421f56a",
   "metadata": {},
   "outputs": [],
   "source": [
    "#update row if video exists\n",
    "\n",
    "def update_row(curr, video_id, video_title, view_count, like_count, dislike_count, comment_count):\n",
    "    query = (\"\"\"UPDATE videos\n",
    "            SET video_title = %s,\n",
    "                view_count = %s,\n",
    "                like_count = %s,\n",
    "                dislike_count = %s,\n",
    "                comment_count = %s\n",
    "            WHERE video_id = %s;\"\"\")\n",
    "    vars_to_update = (video_title, view_count, like_count, dislike_count, comment_count, video_id)\n",
    "    curr.execute(query, vars_to_update)"
   ]
  },
  {
   "cell_type": "code",
   "execution_count": 57,
   "id": "fa5b8e89-f203-44a1-a6a8-6712b7c52d9d",
   "metadata": {},
   "outputs": [],
   "source": [
    "def update_db(curr, df):\n",
    "    # Initialize an empty list to store rows for new videos\n",
    "    new_videos = []\n",
    "\n",
    "    for video_id, row in df.iterrows():\n",
    "        if check_if_video_exists(curr, row['video_id']):  # if video already exists then we will update\n",
    "            update_row(curr, row['video_id'], row['video_title'], row['view_count'], row['like_count'], row['dislike_count'], row['comment_count'])\n",
    "        else:  # The video doesn't exist so we will collect rows to append to the db table later\n",
    "            # Convert the Series to a DataFrame row and set 'video_id' as a column\n",
    "            new_row_df = row.to_frame().T\n",
    "            new_row_df['video_id'] = row['video_id']\n",
    "            new_videos.append(new_row_df)\n",
    "\n",
    "    # If there are new videos, concatenate them into a single DataFrame\n",
    "    if new_videos:\n",
    "        tmp_df = pd.concat(new_videos, ignore_index=True)\n",
    "    else:\n",
    "        # If there are no new videos, create an empty DataFrame with the specified columns\n",
    "        tmp_df = pd.DataFrame(columns=['video_id', 'video_title', 'upload_date', 'view_count', 'like_count', 'dislike_count', 'comment_count'])\n",
    "\n",
    "    return tmp_df\n"
   ]
  },
  {
   "cell_type": "code",
   "execution_count": 58,
   "id": "6aba52c6-cf18-46a5-903b-0a7b7aa7be89",
   "metadata": {},
   "outputs": [],
   "source": [
    "#write insert command\n",
    "\n",
    "def insert_into_table(curr, video_id, video_title, upload_date, view_count, like_count, dislike_count, comment_count):\n",
    "    insert_into_videos = (\"\"\"INSERT INTO videos (video_id, video_title, upload_date, view_count, like_count, dislike_count, comment_count)\n",
    "    VALUES(%s,%s,%s,%s,%s,%s,%s) ON CONFLICT (video_id) DO NOTHING;\"\"\")\n",
    "    row_to_insert = (video_id, video_title, upload_date, view_count, like_count, dislike_count, comment_count)\n",
    "    curr.execute(insert_into_videos, row_to_insert)"
   ]
  },
  {
   "cell_type": "code",
   "execution_count": 59,
   "id": "e86a148b-281a-492f-b578-275c73d3fb34",
   "metadata": {},
   "outputs": [],
   "source": [
    "def append_from_df_to_db(curr,df):\n",
    "    for i, row in df.iterrows():\n",
    "        insert_into_table(curr, row['video_id'], row['video_title'], row['upload_date'], row['view_count'], row['like_count'], row['dislike_count'], row['comment_count'])\n"
   ]
  },
  {
   "cell_type": "code",
   "execution_count": 60,
   "id": "2587d159-baad-40cd-84ba-6dbe007a9ce9",
   "metadata": {},
   "outputs": [],
   "source": [
    "curr = conn.cursor()"
   ]
  },
  {
   "cell_type": "code",
   "execution_count": 61,
   "id": "b2c288e2-4637-4b8f-be69-e3d8edbf126f",
   "metadata": {},
   "outputs": [],
   "source": [
    "create_table(curr)"
   ]
  },
  {
   "cell_type": "code",
   "execution_count": 62,
   "id": "fb584dd3-3920-4a5b-bff1-e4771552cdef",
   "metadata": {
    "scrolled": true
   },
   "outputs": [],
   "source": [
    "new_vid_df = update_db(curr, df)"
   ]
  },
  {
   "cell_type": "code",
   "execution_count": 63,
   "id": "463cc3a3-e795-4e19-901f-c01a334f5345",
   "metadata": {},
   "outputs": [],
   "source": [
    "append_from_df_to_db(curr, new_vid_df)"
   ]
  },
  {
   "cell_type": "code",
   "execution_count": 64,
   "id": "66813685-6bb1-46c0-8a2d-ff2e81a1941e",
   "metadata": {},
   "outputs": [],
   "source": [
    "conn.commit()"
   ]
  },
  {
   "cell_type": "code",
   "execution_count": null,
   "id": "41686b8b-2eec-441c-9699-82acc05e5516",
   "metadata": {},
   "outputs": [],
   "source": []
  }
 ],
 "metadata": {
  "kernelspec": {
   "display_name": "Python 3 (ipykernel)",
   "language": "python",
   "name": "python3"
  },
  "language_info": {
   "codemirror_mode": {
    "name": "ipython",
    "version": 3
   },
   "file_extension": ".py",
   "mimetype": "text/x-python",
   "name": "python",
   "nbconvert_exporter": "python",
   "pygments_lexer": "ipython3",
   "version": "3.11.7"
  }
 },
 "nbformat": 4,
 "nbformat_minor": 5
}
