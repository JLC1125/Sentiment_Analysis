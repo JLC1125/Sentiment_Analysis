{
 "cells": [
  {
   "cell_type": "code",
   "execution_count": 211,
   "id": "097561d3-803d-4efb-b1b2-46825495d682",
   "metadata": {},
   "outputs": [],
   "source": [
    "#import libraries\n",
    "import requests\n",
    "import pandas as pd\n",
    "import time\n",
    "import psycopg2 as ps\n",
    "from dotenv import load_dotenv\n",
    "import os"
   ]
  },
  {
   "cell_type": "code",
   "execution_count": 212,
   "id": "1f6077b7-fefe-4a99-9cfa-2b24ef963abe",
   "metadata": {},
   "outputs": [
    {
     "data": {
      "text/plain": [
       "True"
      ]
     },
     "execution_count": 212,
     "metadata": {},
     "output_type": "execute_result"
    }
   ],
   "source": [
    "load_dotenv()"
   ]
  },
  {
   "cell_type": "code",
   "execution_count": 213,
   "id": "5f532108-f808-4877-95c5-77adae120ee2",
   "metadata": {},
   "outputs": [],
   "source": [
    "#Keys\n",
    "API_KEY = os.getenv('API_KEY')\n",
    "CHANNEL_ID = \"UCHnyfMqiRRG1u-2MsSQLbXA\""
   ]
  },
  {
   "cell_type": "code",
   "execution_count": 214,
   "id": "7d6e6823-3a7d-44dc-8643-08d9e4698ccd",
   "metadata": {},
   "outputs": [],
   "source": [
    "def get_video_details(video_id):\n",
    "    \n",
    "        # Collecting view, like, dislike, comment counts\n",
    "        url_video_stats = \"https://www.googleapis.com/youtube/v3/videos?id=\" + video_id + \"&part=statistics&key=\" + API_KEY\n",
    "        response_video_stats = requests.get(url_video_stats).json()\n",
    "\n",
    "        statistics = response_video_stats['items'][0]['statistics']\n",
    "\n",
    "        # Check if 'dislikeCount' exists before accessing it\n",
    "        if 'dislikeCount' in statistics:\n",
    "            dislike_count = statistics['dislikeCount']\n",
    "        else:\n",
    "            dislike_count = 0  # Set default value if dislike count is not available\n",
    "\n",
    "        view_count = response_video_stats['items'][0]['statistics']['viewCount']\n",
    "        like_count = response_video_stats['items'][0]['statistics']['likeCount']\n",
    "        comment_count = response_video_stats['items'][0]['statistics']['commentCount']\n",
    "\n",
    "        return view_count, like_count, dislike_count, comment_count"
   ]
  },
  {
   "cell_type": "code",
   "execution_count": 215,
   "id": "09f6e156-9d4d-4815-afbd-8d0b00351e6b",
   "metadata": {},
   "outputs": [],
   "source": [
    "def get_videos(df,api_key=API_KEY,channel_id=CHANNEL_ID):\n",
    "    # Make API call\n",
    "    pageToken = \"\"\n",
    "    url = \"https://www.googleapis.com/youtube/v3/search?key=\"+api_key+\"&channelId=\"+channel_id+\"&part=snippet,id&order=date&maxResults=10000\"+pageToken\n",
    "    response = requests.get(url).json()\n",
    "    time.sleep(1)\n",
    "\n",
    "    # Create an empty list to store rows\n",
    "    rows_to_concat = []\n",
    "\n",
    "    for video in response['items']:\n",
    "        if video['id']['kind'] == \"youtube#video\":\n",
    "            video_id = video['id']['videoId']\n",
    "            video_title = video['snippet']['title'].replace(\"&\", \"\")\n",
    "            upload_date = str(video['snippet']['publishedAt']).split(\"T\")[0]\n",
    "\n",
    "            view_count, like_count, dislike_count, comment_count = get_video_details(video_id)\n",
    "\n",
    "            # Create a dictionary for the row\n",
    "            row_dict = {'video_id': video_id, 'video_title': video_title,\n",
    "                        'upload_date': upload_date, 'view_count': view_count,\n",
    "                        'like_count': like_count, 'dislike_count': dislike_count,\n",
    "                        'comment_count': comment_count}\n",
    "\n",
    "            # Append the dictionary to the list\n",
    "            rows_to_concat.append(row_dict)\n",
    "\n",
    "    # Convert the list of dictionaries to a DataFrame\n",
    "    df_new_rows = pd.DataFrame(rows_to_concat)\n",
    "\n",
    "    # Concatenate the new rows with the existing DataFrame\n",
    "    df = pd.concat([df, df_new_rows], ignore_index=True)\n",
    "\n",
    "    return df\n"
   ]
  },
  {
   "cell_type": "code",
   "execution_count": 216,
   "id": "fdd57799-fe37-4f9b-a0cf-006d152fd0df",
   "metadata": {},
   "outputs": [],
   "source": [
    "#main\n",
    "\n",
    "#build our dataframe\n",
    "df = pd.DataFrame(columns=[\"video_id\",\"video_title\",\"upload_date\",\"view_count\",\"like_count\",\"dislike_count\",\"comment_count\"])\n",
    "df = get_videos(df)"
   ]
  },
  {
   "cell_type": "code",
   "execution_count": 217,
   "id": "eff85ec2-8668-4af5-b30e-5435ef81e50f",
   "metadata": {},
   "outputs": [
    {
     "data": {
      "text/html": [
       "<div>\n",
       "<style scoped>\n",
       "    .dataframe tbody tr th:only-of-type {\n",
       "        vertical-align: middle;\n",
       "    }\n",
       "\n",
       "    .dataframe tbody tr th {\n",
       "        vertical-align: top;\n",
       "    }\n",
       "\n",
       "    .dataframe thead th {\n",
       "        text-align: right;\n",
       "    }\n",
       "</style>\n",
       "<table border=\"1\" class=\"dataframe\">\n",
       "  <thead>\n",
       "    <tr style=\"text-align: right;\">\n",
       "      <th></th>\n",
       "      <th>video_id</th>\n",
       "      <th>video_title</th>\n",
       "      <th>upload_date</th>\n",
       "      <th>view_count</th>\n",
       "      <th>like_count</th>\n",
       "      <th>dislike_count</th>\n",
       "      <th>comment_count</th>\n",
       "    </tr>\n",
       "  </thead>\n",
       "  <tbody>\n",
       "    <tr>\n",
       "      <th>0</th>\n",
       "      <td>dAik8EeDyEI</td>\n",
       "      <td>I buried myself in concrete to explain how it ...</td>\n",
       "      <td>2024-03-13</td>\n",
       "      <td>755078</td>\n",
       "      <td>23989</td>\n",
       "      <td>0</td>\n",
       "      <td>441</td>\n",
       "    </tr>\n",
       "    <tr>\n",
       "      <th>1</th>\n",
       "      <td>Zrv1EDIqHkY</td>\n",
       "      <td>The Oldest Unsolved Problem in Math</td>\n",
       "      <td>2024-03-08</td>\n",
       "      <td>5365271</td>\n",
       "      <td>174423</td>\n",
       "      <td>0</td>\n",
       "      <td>9320</td>\n",
       "    </tr>\n",
       "    <tr>\n",
       "      <th>2</th>\n",
       "      <td>A5w-dEgIU1M</td>\n",
       "      <td>The Trillion Dollar Equation</td>\n",
       "      <td>2024-02-27</td>\n",
       "      <td>6185617</td>\n",
       "      <td>216509</td>\n",
       "      <td>0</td>\n",
       "      <td>7589</td>\n",
       "    </tr>\n",
       "    <tr>\n",
       "      <th>3</th>\n",
       "      <td>ov_7HT8bbX4</td>\n",
       "      <td>World#39;s strongest magnet!</td>\n",
       "      <td>2024-02-21</td>\n",
       "      <td>8853314</td>\n",
       "      <td>431466</td>\n",
       "      <td>0</td>\n",
       "      <td>2411</td>\n",
       "    </tr>\n",
       "    <tr>\n",
       "      <th>4</th>\n",
       "      <td>AF8d72mA41M</td>\n",
       "      <td>Why It Was Almost Impossible to Make the Blue LED</td>\n",
       "      <td>2024-02-08</td>\n",
       "      <td>17338993</td>\n",
       "      <td>604288</td>\n",
       "      <td>0</td>\n",
       "      <td>24233</td>\n",
       "    </tr>\n",
       "  </tbody>\n",
       "</table>\n",
       "</div>"
      ],
      "text/plain": [
       "      video_id                                        video_title upload_date  \\\n",
       "0  dAik8EeDyEI  I buried myself in concrete to explain how it ...  2024-03-13   \n",
       "1  Zrv1EDIqHkY                The Oldest Unsolved Problem in Math  2024-03-08   \n",
       "2  A5w-dEgIU1M                       The Trillion Dollar Equation  2024-02-27   \n",
       "3  ov_7HT8bbX4                       World#39;s strongest magnet!  2024-02-21   \n",
       "4  AF8d72mA41M  Why It Was Almost Impossible to Make the Blue LED  2024-02-08   \n",
       "\n",
       "  view_count like_count dislike_count comment_count  \n",
       "0     755078      23989             0           441  \n",
       "1    5365271     174423             0          9320  \n",
       "2    6185617     216509             0          7589  \n",
       "3    8853314     431466             0          2411  \n",
       "4   17338993     604288             0         24233  "
      ]
     },
     "execution_count": 217,
     "metadata": {},
     "output_type": "execute_result"
    }
   ],
   "source": [
    "df.head()"
   ]
  },
  {
   "cell_type": "code",
   "execution_count": 218,
   "id": "7b7825ec-50bd-4ce8-8fff-32d3fc67fa56",
   "metadata": {},
   "outputs": [],
   "source": [
    "# Assuming 'df' is your pandas DataFrame\n",
    "df.to_csv(r\"C:\\Users\\Levin\\Projects\\VeritasiumSA.csv\", index=False)\n"
   ]
  },
  {
   "cell_type": "code",
   "execution_count": 219,
   "id": "54254f8c-b059-4e78-a8f9-5bd80e8cb2e1",
   "metadata": {},
   "outputs": [
    {
     "data": {
      "text/html": [
       "<div>\n",
       "<style scoped>\n",
       "    .dataframe tbody tr th:only-of-type {\n",
       "        vertical-align: middle;\n",
       "    }\n",
       "\n",
       "    .dataframe tbody tr th {\n",
       "        vertical-align: top;\n",
       "    }\n",
       "\n",
       "    .dataframe thead th {\n",
       "        text-align: right;\n",
       "    }\n",
       "</style>\n",
       "<table border=\"1\" class=\"dataframe\">\n",
       "  <thead>\n",
       "    <tr style=\"text-align: right;\">\n",
       "      <th></th>\n",
       "      <th>video_id</th>\n",
       "      <th>video_title</th>\n",
       "      <th>upload_date</th>\n",
       "      <th>view_count</th>\n",
       "      <th>like_count</th>\n",
       "      <th>dislike_count</th>\n",
       "      <th>comment_count</th>\n",
       "    </tr>\n",
       "  </thead>\n",
       "  <tbody>\n",
       "    <tr>\n",
       "      <th>0</th>\n",
       "      <td>dAik8EeDyEI</td>\n",
       "      <td>I buried myself in concrete to explain how it ...</td>\n",
       "      <td>2024-03-13</td>\n",
       "      <td>755078</td>\n",
       "      <td>23989</td>\n",
       "      <td>0</td>\n",
       "      <td>441</td>\n",
       "    </tr>\n",
       "    <tr>\n",
       "      <th>1</th>\n",
       "      <td>Zrv1EDIqHkY</td>\n",
       "      <td>The Oldest Unsolved Problem in Math</td>\n",
       "      <td>2024-03-08</td>\n",
       "      <td>5365271</td>\n",
       "      <td>174423</td>\n",
       "      <td>0</td>\n",
       "      <td>9320</td>\n",
       "    </tr>\n",
       "    <tr>\n",
       "      <th>2</th>\n",
       "      <td>A5w-dEgIU1M</td>\n",
       "      <td>The Trillion Dollar Equation</td>\n",
       "      <td>2024-02-27</td>\n",
       "      <td>6185617</td>\n",
       "      <td>216509</td>\n",
       "      <td>0</td>\n",
       "      <td>7589</td>\n",
       "    </tr>\n",
       "    <tr>\n",
       "      <th>3</th>\n",
       "      <td>ov_7HT8bbX4</td>\n",
       "      <td>World#39;s strongest magnet!</td>\n",
       "      <td>2024-02-21</td>\n",
       "      <td>8853314</td>\n",
       "      <td>431466</td>\n",
       "      <td>0</td>\n",
       "      <td>2411</td>\n",
       "    </tr>\n",
       "    <tr>\n",
       "      <th>4</th>\n",
       "      <td>AF8d72mA41M</td>\n",
       "      <td>Why It Was Almost Impossible to Make the Blue LED</td>\n",
       "      <td>2024-02-08</td>\n",
       "      <td>17338993</td>\n",
       "      <td>604288</td>\n",
       "      <td>0</td>\n",
       "      <td>24233</td>\n",
       "    </tr>\n",
       "  </tbody>\n",
       "</table>\n",
       "</div>"
      ],
      "text/plain": [
       "      video_id                                        video_title upload_date  \\\n",
       "0  dAik8EeDyEI  I buried myself in concrete to explain how it ...  2024-03-13   \n",
       "1  Zrv1EDIqHkY                The Oldest Unsolved Problem in Math  2024-03-08   \n",
       "2  A5w-dEgIU1M                       The Trillion Dollar Equation  2024-02-27   \n",
       "3  ov_7HT8bbX4                       World#39;s strongest magnet!  2024-02-21   \n",
       "4  AF8d72mA41M  Why It Was Almost Impossible to Make the Blue LED  2024-02-08   \n",
       "\n",
       "   view_count  like_count  dislike_count  comment_count  \n",
       "0      755078       23989              0            441  \n",
       "1     5365271      174423              0           9320  \n",
       "2     6185617      216509              0           7589  \n",
       "3     8853314      431466              0           2411  \n",
       "4    17338993      604288              0          24233  "
      ]
     },
     "execution_count": 219,
     "metadata": {},
     "output_type": "execute_result"
    }
   ],
   "source": [
    "df = pd.read_csv('VeritasiumSA.csv')\n",
    "df.head()"
   ]
  },
  {
   "cell_type": "code",
   "execution_count": 220,
   "id": "8381ab2d-c009-41d5-8e87-f043e5e9bfd2",
   "metadata": {},
   "outputs": [],
   "source": [
    "#connect to db\n",
    "def connect_to_db(host_name, dbname, port, username, password):\n",
    "    try:\n",
    "        conn = ps.connect(host=host_name, database=dbname, user=username, password=password, port=port)\n",
    "    except ps.OperationalError as e:\n",
    "            raise e\n",
    "    else:\n",
    "        print('Connected!')\n",
    "    return conn"
   ]
  },
  {
   "cell_type": "code",
   "execution_count": 221,
   "id": "4d30f67e-870b-4739-9130-4b8ee9b5bb40",
   "metadata": {},
   "outputs": [
    {
     "name": "stdout",
     "output_type": "stream",
     "text": [
      "Connected!\n"
     ]
    }
   ],
   "source": [
    "host_name = os.getenv('host_name')\n",
    "dbname = os.getenv('dbname')\n",
    "port = os.getenv('port')\n",
    "username = os.getenv('un')\n",
    "password = os.getenv('password')\n",
    "conn = None\n",
    "\n",
    "conn = connect_to_db(host_name, dbname, port, username, password)"
   ]
  },
  {
   "cell_type": "code",
   "execution_count": 222,
   "id": "a4f985a3-8b30-43ae-9704-1dc8466c80d4",
   "metadata": {},
   "outputs": [],
   "source": [
    "#create table\n",
    "def create_table(curr):\n",
    "    create_table_command = (\"\"\"CREATE TABLE IF NOT EXISTS videos (\n",
    "                     video_id VARCHAR(255) PRIMARY KEY,\n",
    "                     video_title TEXT NOT NULL,\n",
    "                     upload_date DATE NOT NULL DEFAULT CURRENT_DATE,\n",
    "                     view_count INTEGER NOT NULL,\n",
    "                     like_count INTEGER NOT NULL,\n",
    "                     dislike_count INTEGER NOT NULL,\n",
    "                     comment_count INTEGER NOT NULL\n",
    "            )\"\"\")\n",
    "\n",
    "    curr.execute(create_table_command)"
   ]
  },
  {
   "cell_type": "code",
   "execution_count": 223,
   "id": "8dafb8ec-8faa-4751-80f3-e917a95f7e8c",
   "metadata": {},
   "outputs": [],
   "source": [
    "#check if video exists\n",
    "def check_if_video_exists(curr, video_id):\n",
    "    query = (\"\"\"SELECT video_id FROM VIDEOS WHERE video_id = %s\"\"\")\n",
    "    curr.execute(query, (video_id,))\n",
    "\n",
    "    return curr.fetchone() is not None"
   ]
  },
  {
   "cell_type": "code",
   "execution_count": 224,
   "id": "113f246d-f7ea-4445-8c10-8feb9421f56a",
   "metadata": {},
   "outputs": [],
   "source": [
    "#update row if video exists\n",
    "\n",
    "def update_row(curr, video_id, video_title, view_count, like_count, dislike_count, comment_count):\n",
    "    query = (\"\"\"UPDATE videos\n",
    "            SET video_title = %s,\n",
    "                view_count = %s,\n",
    "                like_count = %s,\n",
    "                dislike_count = %s,\n",
    "                comment_count = %s\n",
    "            WHERE video_id = %s;\"\"\")\n",
    "    vars_to_update = (video_title, view_count, like_count, dislike_count, comment_count, video_id)\n",
    "    curr.execute(query, vars_to_update)"
   ]
  },
  {
   "cell_type": "code",
   "execution_count": 225,
   "id": "fa5b8e89-f203-44a1-a6a8-6712b7c52d9d",
   "metadata": {},
   "outputs": [],
   "source": [
    "def update_db(curr, df):\n",
    "    # Initialize an empty list to store rows for new videos\n",
    "    new_videos = []\n",
    "\n",
    "    for video_id, row in df.iterrows():\n",
    "        if check_if_video_exists(curr, row['video_id']):  # if video already exists then we will update\n",
    "            update_row(curr, row['video_id'], row['video_title'], row['view_count'], row['like_count'], row['dislike_count'], row['comment_count'])\n",
    "        else:  # The video doesn't exist so we will collect rows to append to the db table later\n",
    "            # Convert the Series to a DataFrame row and set 'video_id' as a column\n",
    "            new_row_df = row.to_frame().T\n",
    "            new_row_df['video_id'] = row['video_id']\n",
    "            new_videos.append(new_row_df)\n",
    "\n",
    "    # If there are new videos, concatenate them into a single DataFrame\n",
    "    if new_videos:\n",
    "        tmp_df = pd.concat(new_videos, ignore_index=True)\n",
    "    else:\n",
    "        # If there are no new videos, create an empty DataFrame with the specified columns\n",
    "        tmp_df = pd.DataFrame(columns=['video_id', 'video_title', 'upload_date', 'view_count', 'like_count', 'dislike_count', 'comment_count'])\n",
    "\n",
    "    return tmp_df\n"
   ]
  },
  {
   "cell_type": "code",
   "execution_count": 226,
   "id": "6aba52c6-cf18-46a5-903b-0a7b7aa7be89",
   "metadata": {},
   "outputs": [],
   "source": [
    "#write insert command\n",
    "\n",
    "def insert_into_table(curr, video_id, video_title, upload_date, view_count, like_count, dislike_count, comment_count):\n",
    "    insert_into_videos = (\"\"\"INSERT INTO videos (video_id, video_title, upload_date, view_count, like_count, dislike_count, comment_count)\n",
    "    VALUES(%s,%s,%s,%s,%s,%s,%s);\"\"\")\n",
    "    row_to_insert = (video_id, video_title, upload_date, view_count, like_count, dislike_count, comment_count)\n",
    "    curr.execute(insert_into_videos, row_to_insert)"
   ]
  },
  {
   "cell_type": "code",
   "execution_count": 227,
   "id": "e86a148b-281a-492f-b578-275c73d3fb34",
   "metadata": {},
   "outputs": [],
   "source": [
    "def append_from_df_to_db(curr,df):\n",
    "    for i, row in df.iterrows():\n",
    "        insert_into_table(curr, row['video_id'], row['video_title'], row['upload_date'], row['view_count'], row['like_count'], row['dislike_count'], row['comment_count'])\n"
   ]
  },
  {
   "cell_type": "code",
   "execution_count": 228,
   "id": "2587d159-baad-40cd-84ba-6dbe007a9ce9",
   "metadata": {},
   "outputs": [],
   "source": [
    "curr = conn.cursor()"
   ]
  },
  {
   "cell_type": "code",
   "execution_count": 229,
   "id": "b2c288e2-4637-4b8f-be69-e3d8edbf126f",
   "metadata": {},
   "outputs": [],
   "source": [
    "create_table(curr)"
   ]
  },
  {
   "cell_type": "code",
   "execution_count": 230,
   "id": "fb584dd3-3920-4a5b-bff1-e4771552cdef",
   "metadata": {
    "scrolled": true
   },
   "outputs": [],
   "source": [
    "new_vid_df = update_db(curr, df)"
   ]
  },
  {
   "cell_type": "code",
   "execution_count": 231,
   "id": "463cc3a3-e795-4e19-901f-c01a334f5345",
   "metadata": {},
   "outputs": [],
   "source": [
    "append_from_df_to_db(curr, new_vid_df)"
   ]
  },
  {
   "cell_type": "code",
   "execution_count": 232,
   "id": "66813685-6bb1-46c0-8a2d-ff2e81a1941e",
   "metadata": {},
   "outputs": [],
   "source": [
    "conn.commit()"
   ]
  },
  {
   "cell_type": "code",
   "execution_count": null,
   "id": "41686b8b-2eec-441c-9699-82acc05e5516",
   "metadata": {},
   "outputs": [],
   "source": []
  }
 ],
 "metadata": {
  "kernelspec": {
   "display_name": "Python 3 (ipykernel)",
   "language": "python",
   "name": "python3"
  },
  "language_info": {
   "codemirror_mode": {
    "name": "ipython",
    "version": 3
   },
   "file_extension": ".py",
   "mimetype": "text/x-python",
   "name": "python",
   "nbconvert_exporter": "python",
   "pygments_lexer": "ipython3",
   "version": "3.11.7"
  }
 },
 "nbformat": 4,
 "nbformat_minor": 5
}
